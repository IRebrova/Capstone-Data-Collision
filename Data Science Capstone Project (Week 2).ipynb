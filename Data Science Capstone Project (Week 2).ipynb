{
    "cells": [
        {
            "metadata": {},
            "cell_type": "code",
            "source": "!wget -O loan_train.csv https://s3-api.us-geo.objectstorage.softlayer.net/cf-courses-data/CognitiveClass/ML0101ENv3/labs/loan_train.csv",
            "execution_count": 1,
            "outputs": [
                {
                    "output_type": "stream",
                    "text": "--2020-09-21 16:49:18--  https://s3-api.us-geo.objectstorage.softlayer.net/cf-courses-data/CognitiveClass/ML0101ENv3/labs/loan_train.csv\nResolving s3-api.us-geo.objectstorage.softlayer.net (s3-api.us-geo.objectstorage.softlayer.net)... 67.228.254.196\nConnecting to s3-api.us-geo.objectstorage.softlayer.net (s3-api.us-geo.objectstorage.softlayer.net)|67.228.254.196|:443... connected.\nHTTP request sent, awaiting response... 200 OK\nLength: 23101 (23K) [text/csv]\nSaving to: \u2018loan_train.csv\u2019\n\n100%[======================================>] 23,101      --.-K/s   in 0.002s  \n\n2020-09-21 16:49:18 (12.9 MB/s) - \u2018loan_train.csv\u2019 saved [23101/23101]\n\n",
                    "name": "stdout"
                }
            ]
        },
        {
            "metadata": {},
            "cell_type": "code",
            "source": "df = pd.read_csv(\"https://s3.us.cloud-object-storage.appdomain.cloud/cf-courses-data/CognitiveClass/DP0701EN/version-2/Data-Collisions.csv\")\ndf.head()",
            "execution_count": 8,
            "outputs": [
                {
                    "output_type": "stream",
                    "text": "/opt/conda/envs/Python36/lib/python3.6/site-packages/IPython/core/interactiveshell.py:3020: DtypeWarning: Columns (33) have mixed types. Specify dtype option on import or set low_memory=False.\n  interactivity=interactivity, compiler=compiler, result=result)\n",
                    "name": "stderr"
                },
                {
                    "output_type": "execute_result",
                    "execution_count": 8,
                    "data": {
                        "text/plain": "   SEVERITYCODE           X          Y  OBJECTID  INCKEY  COLDETKEY REPORTNO  \\\n0             2 -122.323148  47.703140         1    1307       1307  3502005   \n1             1 -122.347294  47.647172         2   52200      52200  2607959   \n2             1 -122.334540  47.607871         3   26700      26700  1482393   \n3             1 -122.334803  47.604803         4    1144       1144  3503937   \n4             2 -122.306426  47.545739         5   17700      17700  1807429   \n\n    STATUS      ADDRTYPE   INTKEY  ... ROADCOND                LIGHTCOND  \\\n0  Matched  Intersection  37475.0  ...      Wet                 Daylight   \n1  Matched         Block      NaN  ...      Wet  Dark - Street Lights On   \n2  Matched         Block      NaN  ...      Dry                 Daylight   \n3  Matched         Block      NaN  ...      Dry                 Daylight   \n4  Matched  Intersection  34387.0  ...      Wet                 Daylight   \n\n  PEDROWNOTGRNT  SDOTCOLNUM SPEEDING ST_COLCODE  \\\n0           NaN         NaN      NaN         10   \n1           NaN   6354039.0      NaN         11   \n2           NaN   4323031.0      NaN         32   \n3           NaN         NaN      NaN         23   \n4           NaN   4028032.0      NaN         10   \n\n                                          ST_COLDESC  SEGLANEKEY  \\\n0                                  Entering at angle           0   \n1  From same direction - both going straight - bo...           0   \n2                             One parked--one moving           0   \n3                   From same direction - all others           0   \n4                                  Entering at angle           0   \n\n   CROSSWALKKEY  HITPARKEDCAR  \n0             0             N  \n1             0             N  \n2             0             N  \n3             0             N  \n4             0             N  \n\n[5 rows x 38 columns]",
                        "text/html": "<div>\n<style scoped>\n    .dataframe tbody tr th:only-of-type {\n        vertical-align: middle;\n    }\n\n    .dataframe tbody tr th {\n        vertical-align: top;\n    }\n\n    .dataframe thead th {\n        text-align: right;\n    }\n</style>\n<table border=\"1\" class=\"dataframe\">\n  <thead>\n    <tr style=\"text-align: right;\">\n      <th></th>\n      <th>SEVERITYCODE</th>\n      <th>X</th>\n      <th>Y</th>\n      <th>OBJECTID</th>\n      <th>INCKEY</th>\n      <th>COLDETKEY</th>\n      <th>REPORTNO</th>\n      <th>STATUS</th>\n      <th>ADDRTYPE</th>\n      <th>INTKEY</th>\n      <th>...</th>\n      <th>ROADCOND</th>\n      <th>LIGHTCOND</th>\n      <th>PEDROWNOTGRNT</th>\n      <th>SDOTCOLNUM</th>\n      <th>SPEEDING</th>\n      <th>ST_COLCODE</th>\n      <th>ST_COLDESC</th>\n      <th>SEGLANEKEY</th>\n      <th>CROSSWALKKEY</th>\n      <th>HITPARKEDCAR</th>\n    </tr>\n  </thead>\n  <tbody>\n    <tr>\n      <th>0</th>\n      <td>2</td>\n      <td>-122.323148</td>\n      <td>47.703140</td>\n      <td>1</td>\n      <td>1307</td>\n      <td>1307</td>\n      <td>3502005</td>\n      <td>Matched</td>\n      <td>Intersection</td>\n      <td>37475.0</td>\n      <td>...</td>\n      <td>Wet</td>\n      <td>Daylight</td>\n      <td>NaN</td>\n      <td>NaN</td>\n      <td>NaN</td>\n      <td>10</td>\n      <td>Entering at angle</td>\n      <td>0</td>\n      <td>0</td>\n      <td>N</td>\n    </tr>\n    <tr>\n      <th>1</th>\n      <td>1</td>\n      <td>-122.347294</td>\n      <td>47.647172</td>\n      <td>2</td>\n      <td>52200</td>\n      <td>52200</td>\n      <td>2607959</td>\n      <td>Matched</td>\n      <td>Block</td>\n      <td>NaN</td>\n      <td>...</td>\n      <td>Wet</td>\n      <td>Dark - Street Lights On</td>\n      <td>NaN</td>\n      <td>6354039.0</td>\n      <td>NaN</td>\n      <td>11</td>\n      <td>From same direction - both going straight - bo...</td>\n      <td>0</td>\n      <td>0</td>\n      <td>N</td>\n    </tr>\n    <tr>\n      <th>2</th>\n      <td>1</td>\n      <td>-122.334540</td>\n      <td>47.607871</td>\n      <td>3</td>\n      <td>26700</td>\n      <td>26700</td>\n      <td>1482393</td>\n      <td>Matched</td>\n      <td>Block</td>\n      <td>NaN</td>\n      <td>...</td>\n      <td>Dry</td>\n      <td>Daylight</td>\n      <td>NaN</td>\n      <td>4323031.0</td>\n      <td>NaN</td>\n      <td>32</td>\n      <td>One parked--one moving</td>\n      <td>0</td>\n      <td>0</td>\n      <td>N</td>\n    </tr>\n    <tr>\n      <th>3</th>\n      <td>1</td>\n      <td>-122.334803</td>\n      <td>47.604803</td>\n      <td>4</td>\n      <td>1144</td>\n      <td>1144</td>\n      <td>3503937</td>\n      <td>Matched</td>\n      <td>Block</td>\n      <td>NaN</td>\n      <td>...</td>\n      <td>Dry</td>\n      <td>Daylight</td>\n      <td>NaN</td>\n      <td>NaN</td>\n      <td>NaN</td>\n      <td>23</td>\n      <td>From same direction - all others</td>\n      <td>0</td>\n      <td>0</td>\n      <td>N</td>\n    </tr>\n    <tr>\n      <th>4</th>\n      <td>2</td>\n      <td>-122.306426</td>\n      <td>47.545739</td>\n      <td>5</td>\n      <td>17700</td>\n      <td>17700</td>\n      <td>1807429</td>\n      <td>Matched</td>\n      <td>Intersection</td>\n      <td>34387.0</td>\n      <td>...</td>\n      <td>Wet</td>\n      <td>Daylight</td>\n      <td>NaN</td>\n      <td>4028032.0</td>\n      <td>NaN</td>\n      <td>10</td>\n      <td>Entering at angle</td>\n      <td>0</td>\n      <td>0</td>\n      <td>N</td>\n    </tr>\n  </tbody>\n</table>\n<p>5 rows \u00d7 38 columns</p>\n</div>"
                    },
                    "metadata": {}
                }
            ]
        },
        {
            "metadata": {},
            "cell_type": "code",
            "source": "import numpy as np\n",
            "execution_count": 9,
            "outputs": []
        },
        {
            "metadata": {},
            "cell_type": "code",
            "source": "import pandas as pd",
            "execution_count": 10,
            "outputs": []
        },
        {
            "metadata": {},
            "cell_type": "code",
            "source": "df.dtypes",
            "execution_count": 11,
            "outputs": [
                {
                    "output_type": "execute_result",
                    "execution_count": 11,
                    "data": {
                        "text/plain": "SEVERITYCODE        int64\nX                 float64\nY                 float64\nOBJECTID            int64\nINCKEY              int64\nCOLDETKEY           int64\nREPORTNO           object\nSTATUS             object\nADDRTYPE           object\nINTKEY            float64\nLOCATION           object\nEXCEPTRSNCODE      object\nEXCEPTRSNDESC      object\nSEVERITYCODE.1      int64\nSEVERITYDESC       object\nCOLLISIONTYPE      object\nPERSONCOUNT         int64\nPEDCOUNT            int64\nPEDCYLCOUNT         int64\nVEHCOUNT            int64\nINCDATE            object\nINCDTTM            object\nJUNCTIONTYPE       object\nSDOT_COLCODE        int64\nSDOT_COLDESC       object\nINATTENTIONIND     object\nUNDERINFL          object\nWEATHER            object\nROADCOND           object\nLIGHTCOND          object\nPEDROWNOTGRNT      object\nSDOTCOLNUM        float64\nSPEEDING           object\nST_COLCODE         object\nST_COLDESC         object\nSEGLANEKEY          int64\nCROSSWALKKEY        int64\nHITPARKEDCAR       object\ndtype: object"
                    },
                    "metadata": {}
                }
            ]
        },
        {
            "metadata": {},
            "cell_type": "code",
            "source": "from sklearn.utils import resample",
            "execution_count": 12,
            "outputs": []
        },
        {
            "metadata": {},
            "cell_type": "code",
            "source": "df_maj=df[df.SEVERITYCODE==1]\ndf_min=df[df.SEVERITYCODE==2]\ndf_maj_dsample=resample(df_maj, replace=False, n_samples=58188, random_state=123)\nbalanced_df=pd.concat([df_maj_dsample, df_min])\nbalanced_df.SEVERITYCODE.value_counts()\n",
            "execution_count": 13,
            "outputs": [
                {
                    "output_type": "execute_result",
                    "execution_count": 13,
                    "data": {
                        "text/plain": "2    58188\n1    58188\nName: SEVERITYCODE, dtype: int64"
                    },
                    "metadata": {}
                }
            ]
        },
        {
            "metadata": {},
            "cell_type": "code",
            "source": "x=np.asarray(balanced_df[['WEATHER', 'ROADCOND', 'LIGHTCOND']])\nx[0:5]",
            "execution_count": 14,
            "outputs": [
                {
                    "output_type": "execute_result",
                    "execution_count": 14,
                    "data": {
                        "text/plain": "array([['Raining', 'Wet', 'Dark - Street Lights On'],\n       ['Clear', 'Dry', 'Daylight'],\n       ['Unknown', 'Unknown', 'Unknown'],\n       ['Clear', 'Dry', 'Daylight'],\n       ['Clear', 'Dry', 'Daylight']], dtype=object)"
                    },
                    "metadata": {}
                }
            ]
        },
        {
            "metadata": {},
            "cell_type": "code",
            "source": "balanced_df.head()",
            "execution_count": 15,
            "outputs": [
                {
                    "output_type": "execute_result",
                    "execution_count": 15,
                    "data": {
                        "text/plain": "        SEVERITYCODE           X          Y  OBJECTID  INCKEY  COLDETKEY  \\\n25055              1 -122.292730  47.719265     29626   43684      43684   \n65280              1 -122.329124  47.608658     71557   84514      84514   \n86292              1 -122.292434  47.733753     94574  110476     110476   \n155111             1         NaN        NaN    172907  222604     222884   \n64598              1 -122.339185  47.625594     70842   84273      84273   \n\n       REPORTNO   STATUS      ADDRTYPE   INTKEY  ... ROADCOND  \\\n25055   1778514  Matched  Intersection  36599.0  ...      Wet   \n65280   2623093  Matched  Intersection  29926.0  ...      Dry   \n86292   3377452  Matched  Intersection  35987.0  ...  Unknown   \n155111  E554578  Matched         Block      NaN  ...      Dry   \n64598   2898917  Matched         Block      NaN  ...      Dry   \n\n                      LIGHTCOND PEDROWNOTGRNT  SDOTCOLNUM SPEEDING ST_COLCODE  \\\n25055   Dark - Street Lights On           NaN   5022026.0      NaN         10   \n65280                  Daylight           NaN   8235027.0      NaN         10   \n86292                   Unknown           NaN  10323017.0      NaN         10   \n155111                 Daylight           NaN         NaN      NaN         11   \n64598                  Daylight           NaN   8069016.0      NaN         30   \n\n                                               ST_COLDESC  SEGLANEKEY  \\\n25055                                   Entering at angle           0   \n65280                                   Entering at angle           0   \n86292                                   Entering at angle           0   \n155111  From same direction - both going straight - bo...           0   \n64598                From opposite direction - all others           0   \n\n        CROSSWALKKEY  HITPARKEDCAR  \n25055              0             N  \n65280              0             N  \n86292              0             N  \n155111             0             N  \n64598              0             N  \n\n[5 rows x 38 columns]",
                        "text/html": "<div>\n<style scoped>\n    .dataframe tbody tr th:only-of-type {\n        vertical-align: middle;\n    }\n\n    .dataframe tbody tr th {\n        vertical-align: top;\n    }\n\n    .dataframe thead th {\n        text-align: right;\n    }\n</style>\n<table border=\"1\" class=\"dataframe\">\n  <thead>\n    <tr style=\"text-align: right;\">\n      <th></th>\n      <th>SEVERITYCODE</th>\n      <th>X</th>\n      <th>Y</th>\n      <th>OBJECTID</th>\n      <th>INCKEY</th>\n      <th>COLDETKEY</th>\n      <th>REPORTNO</th>\n      <th>STATUS</th>\n      <th>ADDRTYPE</th>\n      <th>INTKEY</th>\n      <th>...</th>\n      <th>ROADCOND</th>\n      <th>LIGHTCOND</th>\n      <th>PEDROWNOTGRNT</th>\n      <th>SDOTCOLNUM</th>\n      <th>SPEEDING</th>\n      <th>ST_COLCODE</th>\n      <th>ST_COLDESC</th>\n      <th>SEGLANEKEY</th>\n      <th>CROSSWALKKEY</th>\n      <th>HITPARKEDCAR</th>\n    </tr>\n  </thead>\n  <tbody>\n    <tr>\n      <th>25055</th>\n      <td>1</td>\n      <td>-122.292730</td>\n      <td>47.719265</td>\n      <td>29626</td>\n      <td>43684</td>\n      <td>43684</td>\n      <td>1778514</td>\n      <td>Matched</td>\n      <td>Intersection</td>\n      <td>36599.0</td>\n      <td>...</td>\n      <td>Wet</td>\n      <td>Dark - Street Lights On</td>\n      <td>NaN</td>\n      <td>5022026.0</td>\n      <td>NaN</td>\n      <td>10</td>\n      <td>Entering at angle</td>\n      <td>0</td>\n      <td>0</td>\n      <td>N</td>\n    </tr>\n    <tr>\n      <th>65280</th>\n      <td>1</td>\n      <td>-122.329124</td>\n      <td>47.608658</td>\n      <td>71557</td>\n      <td>84514</td>\n      <td>84514</td>\n      <td>2623093</td>\n      <td>Matched</td>\n      <td>Intersection</td>\n      <td>29926.0</td>\n      <td>...</td>\n      <td>Dry</td>\n      <td>Daylight</td>\n      <td>NaN</td>\n      <td>8235027.0</td>\n      <td>NaN</td>\n      <td>10</td>\n      <td>Entering at angle</td>\n      <td>0</td>\n      <td>0</td>\n      <td>N</td>\n    </tr>\n    <tr>\n      <th>86292</th>\n      <td>1</td>\n      <td>-122.292434</td>\n      <td>47.733753</td>\n      <td>94574</td>\n      <td>110476</td>\n      <td>110476</td>\n      <td>3377452</td>\n      <td>Matched</td>\n      <td>Intersection</td>\n      <td>35987.0</td>\n      <td>...</td>\n      <td>Unknown</td>\n      <td>Unknown</td>\n      <td>NaN</td>\n      <td>10323017.0</td>\n      <td>NaN</td>\n      <td>10</td>\n      <td>Entering at angle</td>\n      <td>0</td>\n      <td>0</td>\n      <td>N</td>\n    </tr>\n    <tr>\n      <th>155111</th>\n      <td>1</td>\n      <td>NaN</td>\n      <td>NaN</td>\n      <td>172907</td>\n      <td>222604</td>\n      <td>222884</td>\n      <td>E554578</td>\n      <td>Matched</td>\n      <td>Block</td>\n      <td>NaN</td>\n      <td>...</td>\n      <td>Dry</td>\n      <td>Daylight</td>\n      <td>NaN</td>\n      <td>NaN</td>\n      <td>NaN</td>\n      <td>11</td>\n      <td>From same direction - both going straight - bo...</td>\n      <td>0</td>\n      <td>0</td>\n      <td>N</td>\n    </tr>\n    <tr>\n      <th>64598</th>\n      <td>1</td>\n      <td>-122.339185</td>\n      <td>47.625594</td>\n      <td>70842</td>\n      <td>84273</td>\n      <td>84273</td>\n      <td>2898917</td>\n      <td>Matched</td>\n      <td>Block</td>\n      <td>NaN</td>\n      <td>...</td>\n      <td>Dry</td>\n      <td>Daylight</td>\n      <td>NaN</td>\n      <td>8069016.0</td>\n      <td>NaN</td>\n      <td>30</td>\n      <td>From opposite direction - all others</td>\n      <td>0</td>\n      <td>0</td>\n      <td>N</td>\n    </tr>\n  </tbody>\n</table>\n<p>5 rows \u00d7 38 columns</p>\n</div>"
                    },
                    "metadata": {}
                }
            ]
        },
        {
            "metadata": {},
            "cell_type": "code",
            "source": "final_df=balanced_df[['SEVERITYCODE','WEATHER', 'ROADCOND', 'LIGHTCOND']]\nfinal_df.head()",
            "execution_count": 16,
            "outputs": [
                {
                    "output_type": "execute_result",
                    "execution_count": 16,
                    "data": {
                        "text/plain": "        SEVERITYCODE  WEATHER ROADCOND                LIGHTCOND\n25055              1  Raining      Wet  Dark - Street Lights On\n65280              1    Clear      Dry                 Daylight\n86292              1  Unknown  Unknown                  Unknown\n155111             1    Clear      Dry                 Daylight\n64598              1    Clear      Dry                 Daylight",
                        "text/html": "<div>\n<style scoped>\n    .dataframe tbody tr th:only-of-type {\n        vertical-align: middle;\n    }\n\n    .dataframe tbody tr th {\n        vertical-align: top;\n    }\n\n    .dataframe thead th {\n        text-align: right;\n    }\n</style>\n<table border=\"1\" class=\"dataframe\">\n  <thead>\n    <tr style=\"text-align: right;\">\n      <th></th>\n      <th>SEVERITYCODE</th>\n      <th>WEATHER</th>\n      <th>ROADCOND</th>\n      <th>LIGHTCOND</th>\n    </tr>\n  </thead>\n  <tbody>\n    <tr>\n      <th>25055</th>\n      <td>1</td>\n      <td>Raining</td>\n      <td>Wet</td>\n      <td>Dark - Street Lights On</td>\n    </tr>\n    <tr>\n      <th>65280</th>\n      <td>1</td>\n      <td>Clear</td>\n      <td>Dry</td>\n      <td>Daylight</td>\n    </tr>\n    <tr>\n      <th>86292</th>\n      <td>1</td>\n      <td>Unknown</td>\n      <td>Unknown</td>\n      <td>Unknown</td>\n    </tr>\n    <tr>\n      <th>155111</th>\n      <td>1</td>\n      <td>Clear</td>\n      <td>Dry</td>\n      <td>Daylight</td>\n    </tr>\n    <tr>\n      <th>64598</th>\n      <td>1</td>\n      <td>Clear</td>\n      <td>Dry</td>\n      <td>Daylight</td>\n    </tr>\n  </tbody>\n</table>\n</div>"
                    },
                    "metadata": {}
                }
            ]
        },
        {
            "metadata": {},
            "cell_type": "code",
            "source": "final_df.dtypes\n",
            "execution_count": 17,
            "outputs": [
                {
                    "output_type": "execute_result",
                    "execution_count": 17,
                    "data": {
                        "text/plain": "SEVERITYCODE     int64\nWEATHER         object\nROADCOND        object\nLIGHTCOND       object\ndtype: object"
                    },
                    "metadata": {}
                }
            ]
        },
        {
            "metadata": {},
            "cell_type": "code",
            "source": "final_df.dropna()",
            "execution_count": 18,
            "outputs": [
                {
                    "output_type": "execute_result",
                    "execution_count": 18,
                    "data": {
                        "text/plain": "        SEVERITYCODE            WEATHER ROADCOND                 LIGHTCOND\n25055              1            Raining      Wet   Dark - Street Lights On\n65280              1              Clear      Dry                  Daylight\n86292              1            Unknown  Unknown                   Unknown\n155111             1              Clear      Dry                  Daylight\n64598              1              Clear      Dry                  Daylight\n119954             1              Clear      Dry                  Daylight\n64063              1              Clear      Dry                  Daylight\n105379             1              Clear      Dry                  Daylight\n187708             1              Clear      Dry                  Daylight\n63021              1            Unknown  Unknown                  Daylight\n156744             1              Clear      Dry   Dark - Street Lights On\n10240              1              Clear      Dry                      Dusk\n37311              1              Clear      Dry                  Daylight\n108465             1              Clear      Dry                  Daylight\n97400              1              Clear      Dry   Dark - Street Lights On\n51928              1            Raining      Wet   Dark - Street Lights On\n7574               1           Overcast      Dry                  Daylight\n135430             1              Other  Unknown                   Unknown\n64620              1              Clear      Dry                  Daylight\n160199             1            Raining      Wet                  Daylight\n169301             1              Clear      Dry                      Dawn\n120192             1           Overcast      Wet   Dark - Street Lights On\n158305             1              Clear      Dry                  Daylight\n179658             1              Clear      Dry                      Dusk\n67340              1              Clear      Dry                  Daylight\n184250             1            Unknown  Unknown                   Unknown\n57004              1              Clear      Dry                  Daylight\n49555              1           Overcast      Dry                  Daylight\n74905              1            Unknown  Unknown                   Unknown\n187234             1              Clear      Dry                  Daylight\n...              ...                ...      ...                       ...\n194565             2              Clear      Dry                  Daylight\n194576             2            Raining      Wet                  Daylight\n194578             2              Clear      Dry   Dark - Street Lights On\n194579             2            Raining      Wet                  Daylight\n194589             2              Clear      Dry   Dark - Street Lights On\n194594             2              Clear      Dry                  Daylight\n194602             2            Raining      Wet                  Daylight\n194608             2            Raining      Wet                  Daylight\n194613             2              Clear      Dry                  Daylight\n194615             2              Clear      Dry   Dark - Street Lights On\n194627             2            Raining      Wet                  Daylight\n194631             2  Blowing Sand/Dirt      Wet   Dark - Street Lights On\n194633             2              Clear      Dry   Dark - Street Lights On\n194634             2           Overcast      Wet   Dark - Street Lights On\n194636             2              Clear      Wet                  Daylight\n194637             2            Raining      Wet                  Daylight\n194640             2           Overcast      Wet  Dark - Street Lights Off\n194645             2              Clear      Dry   Dark - Street Lights On\n194647             2            Raining      Wet                      Dusk\n194649             2              Clear      Dry   Dark - Street Lights On\n194650             2              Clear      Dry                  Daylight\n194653             2           Overcast      Wet   Dark - Street Lights On\n194656             2              Clear      Dry                  Daylight\n194660             2            Raining      Wet                     Other\n194661             2              Clear      Dry                  Daylight\n194663             2            Raining      Wet                  Daylight\n194666             2              Clear      Wet                  Daylight\n194668             2              Clear      Dry                  Daylight\n194670             2              Clear      Dry                  Daylight\n194671             2              Clear      Dry                      Dusk\n\n[113430 rows x 4 columns]",
                        "text/html": "<div>\n<style scoped>\n    .dataframe tbody tr th:only-of-type {\n        vertical-align: middle;\n    }\n\n    .dataframe tbody tr th {\n        vertical-align: top;\n    }\n\n    .dataframe thead th {\n        text-align: right;\n    }\n</style>\n<table border=\"1\" class=\"dataframe\">\n  <thead>\n    <tr style=\"text-align: right;\">\n      <th></th>\n      <th>SEVERITYCODE</th>\n      <th>WEATHER</th>\n      <th>ROADCOND</th>\n      <th>LIGHTCOND</th>\n    </tr>\n  </thead>\n  <tbody>\n    <tr>\n      <th>25055</th>\n      <td>1</td>\n      <td>Raining</td>\n      <td>Wet</td>\n      <td>Dark - Street Lights On</td>\n    </tr>\n    <tr>\n      <th>65280</th>\n      <td>1</td>\n      <td>Clear</td>\n      <td>Dry</td>\n      <td>Daylight</td>\n    </tr>\n    <tr>\n      <th>86292</th>\n      <td>1</td>\n      <td>Unknown</td>\n      <td>Unknown</td>\n      <td>Unknown</td>\n    </tr>\n    <tr>\n      <th>155111</th>\n      <td>1</td>\n      <td>Clear</td>\n      <td>Dry</td>\n      <td>Daylight</td>\n    </tr>\n    <tr>\n      <th>64598</th>\n      <td>1</td>\n      <td>Clear</td>\n      <td>Dry</td>\n      <td>Daylight</td>\n    </tr>\n    <tr>\n      <th>119954</th>\n      <td>1</td>\n      <td>Clear</td>\n      <td>Dry</td>\n      <td>Daylight</td>\n    </tr>\n    <tr>\n      <th>64063</th>\n      <td>1</td>\n      <td>Clear</td>\n      <td>Dry</td>\n      <td>Daylight</td>\n    </tr>\n    <tr>\n      <th>105379</th>\n      <td>1</td>\n      <td>Clear</td>\n      <td>Dry</td>\n      <td>Daylight</td>\n    </tr>\n    <tr>\n      <th>187708</th>\n      <td>1</td>\n      <td>Clear</td>\n      <td>Dry</td>\n      <td>Daylight</td>\n    </tr>\n    <tr>\n      <th>63021</th>\n      <td>1</td>\n      <td>Unknown</td>\n      <td>Unknown</td>\n      <td>Daylight</td>\n    </tr>\n    <tr>\n      <th>156744</th>\n      <td>1</td>\n      <td>Clear</td>\n      <td>Dry</td>\n      <td>Dark - Street Lights On</td>\n    </tr>\n    <tr>\n      <th>10240</th>\n      <td>1</td>\n      <td>Clear</td>\n      <td>Dry</td>\n      <td>Dusk</td>\n    </tr>\n    <tr>\n      <th>37311</th>\n      <td>1</td>\n      <td>Clear</td>\n      <td>Dry</td>\n      <td>Daylight</td>\n    </tr>\n    <tr>\n      <th>108465</th>\n      <td>1</td>\n      <td>Clear</td>\n      <td>Dry</td>\n      <td>Daylight</td>\n    </tr>\n    <tr>\n      <th>97400</th>\n      <td>1</td>\n      <td>Clear</td>\n      <td>Dry</td>\n      <td>Dark - Street Lights On</td>\n    </tr>\n    <tr>\n      <th>51928</th>\n      <td>1</td>\n      <td>Raining</td>\n      <td>Wet</td>\n      <td>Dark - Street Lights On</td>\n    </tr>\n    <tr>\n      <th>7574</th>\n      <td>1</td>\n      <td>Overcast</td>\n      <td>Dry</td>\n      <td>Daylight</td>\n    </tr>\n    <tr>\n      <th>135430</th>\n      <td>1</td>\n      <td>Other</td>\n      <td>Unknown</td>\n      <td>Unknown</td>\n    </tr>\n    <tr>\n      <th>64620</th>\n      <td>1</td>\n      <td>Clear</td>\n      <td>Dry</td>\n      <td>Daylight</td>\n    </tr>\n    <tr>\n      <th>160199</th>\n      <td>1</td>\n      <td>Raining</td>\n      <td>Wet</td>\n      <td>Daylight</td>\n    </tr>\n    <tr>\n      <th>169301</th>\n      <td>1</td>\n      <td>Clear</td>\n      <td>Dry</td>\n      <td>Dawn</td>\n    </tr>\n    <tr>\n      <th>120192</th>\n      <td>1</td>\n      <td>Overcast</td>\n      <td>Wet</td>\n      <td>Dark - Street Lights On</td>\n    </tr>\n    <tr>\n      <th>158305</th>\n      <td>1</td>\n      <td>Clear</td>\n      <td>Dry</td>\n      <td>Daylight</td>\n    </tr>\n    <tr>\n      <th>179658</th>\n      <td>1</td>\n      <td>Clear</td>\n      <td>Dry</td>\n      <td>Dusk</td>\n    </tr>\n    <tr>\n      <th>67340</th>\n      <td>1</td>\n      <td>Clear</td>\n      <td>Dry</td>\n      <td>Daylight</td>\n    </tr>\n    <tr>\n      <th>184250</th>\n      <td>1</td>\n      <td>Unknown</td>\n      <td>Unknown</td>\n      <td>Unknown</td>\n    </tr>\n    <tr>\n      <th>57004</th>\n      <td>1</td>\n      <td>Clear</td>\n      <td>Dry</td>\n      <td>Daylight</td>\n    </tr>\n    <tr>\n      <th>49555</th>\n      <td>1</td>\n      <td>Overcast</td>\n      <td>Dry</td>\n      <td>Daylight</td>\n    </tr>\n    <tr>\n      <th>74905</th>\n      <td>1</td>\n      <td>Unknown</td>\n      <td>Unknown</td>\n      <td>Unknown</td>\n    </tr>\n    <tr>\n      <th>187234</th>\n      <td>1</td>\n      <td>Clear</td>\n      <td>Dry</td>\n      <td>Daylight</td>\n    </tr>\n    <tr>\n      <th>...</th>\n      <td>...</td>\n      <td>...</td>\n      <td>...</td>\n      <td>...</td>\n    </tr>\n    <tr>\n      <th>194565</th>\n      <td>2</td>\n      <td>Clear</td>\n      <td>Dry</td>\n      <td>Daylight</td>\n    </tr>\n    <tr>\n      <th>194576</th>\n      <td>2</td>\n      <td>Raining</td>\n      <td>Wet</td>\n      <td>Daylight</td>\n    </tr>\n    <tr>\n      <th>194578</th>\n      <td>2</td>\n      <td>Clear</td>\n      <td>Dry</td>\n      <td>Dark - Street Lights On</td>\n    </tr>\n    <tr>\n      <th>194579</th>\n      <td>2</td>\n      <td>Raining</td>\n      <td>Wet</td>\n      <td>Daylight</td>\n    </tr>\n    <tr>\n      <th>194589</th>\n      <td>2</td>\n      <td>Clear</td>\n      <td>Dry</td>\n      <td>Dark - Street Lights On</td>\n    </tr>\n    <tr>\n      <th>194594</th>\n      <td>2</td>\n      <td>Clear</td>\n      <td>Dry</td>\n      <td>Daylight</td>\n    </tr>\n    <tr>\n      <th>194602</th>\n      <td>2</td>\n      <td>Raining</td>\n      <td>Wet</td>\n      <td>Daylight</td>\n    </tr>\n    <tr>\n      <th>194608</th>\n      <td>2</td>\n      <td>Raining</td>\n      <td>Wet</td>\n      <td>Daylight</td>\n    </tr>\n    <tr>\n      <th>194613</th>\n      <td>2</td>\n      <td>Clear</td>\n      <td>Dry</td>\n      <td>Daylight</td>\n    </tr>\n    <tr>\n      <th>194615</th>\n      <td>2</td>\n      <td>Clear</td>\n      <td>Dry</td>\n      <td>Dark - Street Lights On</td>\n    </tr>\n    <tr>\n      <th>194627</th>\n      <td>2</td>\n      <td>Raining</td>\n      <td>Wet</td>\n      <td>Daylight</td>\n    </tr>\n    <tr>\n      <th>194631</th>\n      <td>2</td>\n      <td>Blowing Sand/Dirt</td>\n      <td>Wet</td>\n      <td>Dark - Street Lights On</td>\n    </tr>\n    <tr>\n      <th>194633</th>\n      <td>2</td>\n      <td>Clear</td>\n      <td>Dry</td>\n      <td>Dark - Street Lights On</td>\n    </tr>\n    <tr>\n      <th>194634</th>\n      <td>2</td>\n      <td>Overcast</td>\n      <td>Wet</td>\n      <td>Dark - Street Lights On</td>\n    </tr>\n    <tr>\n      <th>194636</th>\n      <td>2</td>\n      <td>Clear</td>\n      <td>Wet</td>\n      <td>Daylight</td>\n    </tr>\n    <tr>\n      <th>194637</th>\n      <td>2</td>\n      <td>Raining</td>\n      <td>Wet</td>\n      <td>Daylight</td>\n    </tr>\n    <tr>\n      <th>194640</th>\n      <td>2</td>\n      <td>Overcast</td>\n      <td>Wet</td>\n      <td>Dark - Street Lights Off</td>\n    </tr>\n    <tr>\n      <th>194645</th>\n      <td>2</td>\n      <td>Clear</td>\n      <td>Dry</td>\n      <td>Dark - Street Lights On</td>\n    </tr>\n    <tr>\n      <th>194647</th>\n      <td>2</td>\n      <td>Raining</td>\n      <td>Wet</td>\n      <td>Dusk</td>\n    </tr>\n    <tr>\n      <th>194649</th>\n      <td>2</td>\n      <td>Clear</td>\n      <td>Dry</td>\n      <td>Dark - Street Lights On</td>\n    </tr>\n    <tr>\n      <th>194650</th>\n      <td>2</td>\n      <td>Clear</td>\n      <td>Dry</td>\n      <td>Daylight</td>\n    </tr>\n    <tr>\n      <th>194653</th>\n      <td>2</td>\n      <td>Overcast</td>\n      <td>Wet</td>\n      <td>Dark - Street Lights On</td>\n    </tr>\n    <tr>\n      <th>194656</th>\n      <td>2</td>\n      <td>Clear</td>\n      <td>Dry</td>\n      <td>Daylight</td>\n    </tr>\n    <tr>\n      <th>194660</th>\n      <td>2</td>\n      <td>Raining</td>\n      <td>Wet</td>\n      <td>Other</td>\n    </tr>\n    <tr>\n      <th>194661</th>\n      <td>2</td>\n      <td>Clear</td>\n      <td>Dry</td>\n      <td>Daylight</td>\n    </tr>\n    <tr>\n      <th>194663</th>\n      <td>2</td>\n      <td>Raining</td>\n      <td>Wet</td>\n      <td>Daylight</td>\n    </tr>\n    <tr>\n      <th>194666</th>\n      <td>2</td>\n      <td>Clear</td>\n      <td>Wet</td>\n      <td>Daylight</td>\n    </tr>\n    <tr>\n      <th>194668</th>\n      <td>2</td>\n      <td>Clear</td>\n      <td>Dry</td>\n      <td>Daylight</td>\n    </tr>\n    <tr>\n      <th>194670</th>\n      <td>2</td>\n      <td>Clear</td>\n      <td>Dry</td>\n      <td>Daylight</td>\n    </tr>\n    <tr>\n      <th>194671</th>\n      <td>2</td>\n      <td>Clear</td>\n      <td>Dry</td>\n      <td>Dusk</td>\n    </tr>\n  </tbody>\n</table>\n<p>113430 rows \u00d7 4 columns</p>\n</div>"
                    },
                    "metadata": {}
                }
            ]
        },
        {
            "metadata": {},
            "cell_type": "code",
            "source": "final_df[\"WEATHER\"].value_counts()",
            "execution_count": 19,
            "outputs": [
                {
                    "output_type": "execute_result",
                    "execution_count": 19,
                    "data": {
                        "text/plain": "Clear                       67946\nRaining                     20584\nOvercast                    16834\nUnknown                      6851\nSnowing                       474\nOther                         406\nFog/Smog/Smoke                355\nSleet/Hail/Freezing Rain       63\nBlowing Sand/Dirt              30\nSevere Crosswind               13\nPartly Cloudy                   4\nName: WEATHER, dtype: int64"
                    },
                    "metadata": {}
                }
            ]
        },
        {
            "metadata": {},
            "cell_type": "code",
            "source": "final_df[\"ROADCOND\"].value_counts()",
            "execution_count": 20,
            "outputs": [
                {
                    "output_type": "execute_result",
                    "execution_count": 20,
                    "data": {
                        "text/plain": "Dry               76000\nWet               29374\nUnknown            6806\nIce                 678\nSnow/Slush          528\nOther                83\nStanding Water       57\nSand/Mud/Dirt        47\nOil                  39\nName: ROADCOND, dtype: int64"
                    },
                    "metadata": {}
                }
            ]
        },
        {
            "metadata": {},
            "cell_type": "code",
            "source": "final_df[\"LIGHTCOND\"].value_counts()",
            "execution_count": 21,
            "outputs": [
                {
                    "output_type": "execute_result",
                    "execution_count": 21,
                    "data": {
                        "text/plain": "Daylight                    71503\nDark - Street Lights On     29133\nUnknown                      6062\nDusk                         3592\nDawn                         1535\nDark - No Street Lights       866\nDark - Street Lights Off      703\nOther                         127\nDark - Unknown Lighting         7\nName: LIGHTCOND, dtype: int64"
                    },
                    "metadata": {}
                }
            ]
        },
        {
            "metadata": {},
            "cell_type": "code",
            "source": "cleanup_nums = {\"WEATHER\": {\"Clear\": 1,\"Raining\": 2, \"Overcast\": 3, \"Unknown\": 4, \"Snowing\": 5, \"Other\": 6,\"Fog/Smog/Smoke\": 7, \"Sleet/Hail/Freezing Rain\": 8, \"Blowing Sand/Dirt\": 9, \"Severe Crosswind\": 10, \"Partly Cloudy\": 11},\n                \"ROADCOND\": {\"Dry\": 1,\"Wet\": 2, \"Unknown\": 3, \"Ice\": 4, \"Snow/Slush\": 5, \"Other\": 6, \"Standing Water\": 7, \"Sand/Mud/Dirt\": 8, \"Oil\": 9},\n                \"LIGHTCOND\": {\"Daylight\": 1, \"Dark - Street Lights On\": 2, \"Unknown\": 3, \"Dusk\": 4, \"Dawn\": 5, \"Dark - No Street Lights\": 6, \"Dark - Street Lights Off\": 7, \"Other\": 8, \"Dark - Unknown Lighting\": 9}}",
            "execution_count": 22,
            "outputs": []
        },
        {
            "metadata": {},
            "cell_type": "code",
            "source": "",
            "execution_count": 116,
            "outputs": []
        },
        {
            "metadata": {},
            "cell_type": "code",
            "source": "import pandas as pd",
            "execution_count": 34,
            "outputs": []
        },
        {
            "metadata": {},
            "cell_type": "code",
            "source": "",
            "execution_count": null,
            "outputs": []
        },
        {
            "metadata": {},
            "cell_type": "code",
            "source": "final_df.replace(cleanup_nums, inplace=True)\nfinal_df.head()",
            "execution_count": 23,
            "outputs": [
                {
                    "output_type": "stream",
                    "text": "/opt/conda/envs/Python36/lib/python3.6/site-packages/pandas/core/generic.py:6517: SettingWithCopyWarning: \nA value is trying to be set on a copy of a slice from a DataFrame.\nTry using .loc[row_indexer,col_indexer] = value instead\n\nSee the caveats in the documentation: http://pandas.pydata.org/pandas-docs/stable/indexing.html#indexing-view-versus-copy\n  regex=regex)\n",
                    "name": "stderr"
                },
                {
                    "output_type": "execute_result",
                    "execution_count": 23,
                    "data": {
                        "text/plain": "        SEVERITYCODE  WEATHER  ROADCOND  LIGHTCOND\n25055              1      2.0       2.0        2.0\n65280              1      1.0       1.0        1.0\n86292              1      4.0       3.0        3.0\n155111             1      1.0       1.0        1.0\n64598              1      1.0       1.0        1.0",
                        "text/html": "<div>\n<style scoped>\n    .dataframe tbody tr th:only-of-type {\n        vertical-align: middle;\n    }\n\n    .dataframe tbody tr th {\n        vertical-align: top;\n    }\n\n    .dataframe thead th {\n        text-align: right;\n    }\n</style>\n<table border=\"1\" class=\"dataframe\">\n  <thead>\n    <tr style=\"text-align: right;\">\n      <th></th>\n      <th>SEVERITYCODE</th>\n      <th>WEATHER</th>\n      <th>ROADCOND</th>\n      <th>LIGHTCOND</th>\n    </tr>\n  </thead>\n  <tbody>\n    <tr>\n      <th>25055</th>\n      <td>1</td>\n      <td>2.0</td>\n      <td>2.0</td>\n      <td>2.0</td>\n    </tr>\n    <tr>\n      <th>65280</th>\n      <td>1</td>\n      <td>1.0</td>\n      <td>1.0</td>\n      <td>1.0</td>\n    </tr>\n    <tr>\n      <th>86292</th>\n      <td>1</td>\n      <td>4.0</td>\n      <td>3.0</td>\n      <td>3.0</td>\n    </tr>\n    <tr>\n      <th>155111</th>\n      <td>1</td>\n      <td>1.0</td>\n      <td>1.0</td>\n      <td>1.0</td>\n    </tr>\n    <tr>\n      <th>64598</th>\n      <td>1</td>\n      <td>1.0</td>\n      <td>1.0</td>\n      <td>1.0</td>\n    </tr>\n  </tbody>\n</table>\n</div>"
                    },
                    "metadata": {}
                }
            ]
        },
        {
            "metadata": {},
            "cell_type": "code",
            "source": "final_df.head()",
            "execution_count": 24,
            "outputs": [
                {
                    "output_type": "execute_result",
                    "execution_count": 24,
                    "data": {
                        "text/plain": "        SEVERITYCODE  WEATHER  ROADCOND  LIGHTCOND\n25055              1      2.0       2.0        2.0\n65280              1      1.0       1.0        1.0\n86292              1      4.0       3.0        3.0\n155111             1      1.0       1.0        1.0\n64598              1      1.0       1.0        1.0",
                        "text/html": "<div>\n<style scoped>\n    .dataframe tbody tr th:only-of-type {\n        vertical-align: middle;\n    }\n\n    .dataframe tbody tr th {\n        vertical-align: top;\n    }\n\n    .dataframe thead th {\n        text-align: right;\n    }\n</style>\n<table border=\"1\" class=\"dataframe\">\n  <thead>\n    <tr style=\"text-align: right;\">\n      <th></th>\n      <th>SEVERITYCODE</th>\n      <th>WEATHER</th>\n      <th>ROADCOND</th>\n      <th>LIGHTCOND</th>\n    </tr>\n  </thead>\n  <tbody>\n    <tr>\n      <th>25055</th>\n      <td>1</td>\n      <td>2.0</td>\n      <td>2.0</td>\n      <td>2.0</td>\n    </tr>\n    <tr>\n      <th>65280</th>\n      <td>1</td>\n      <td>1.0</td>\n      <td>1.0</td>\n      <td>1.0</td>\n    </tr>\n    <tr>\n      <th>86292</th>\n      <td>1</td>\n      <td>4.0</td>\n      <td>3.0</td>\n      <td>3.0</td>\n    </tr>\n    <tr>\n      <th>155111</th>\n      <td>1</td>\n      <td>1.0</td>\n      <td>1.0</td>\n      <td>1.0</td>\n    </tr>\n    <tr>\n      <th>64598</th>\n      <td>1</td>\n      <td>1.0</td>\n      <td>1.0</td>\n      <td>1.0</td>\n    </tr>\n  </tbody>\n</table>\n</div>"
                    },
                    "metadata": {}
                }
            ]
        },
        {
            "metadata": {},
            "cell_type": "code",
            "source": "final_df.dtypes",
            "execution_count": 25,
            "outputs": [
                {
                    "output_type": "execute_result",
                    "execution_count": 25,
                    "data": {
                        "text/plain": "SEVERITYCODE      int64\nWEATHER         float64\nROADCOND        float64\nLIGHTCOND       float64\ndtype: object"
                    },
                    "metadata": {}
                }
            ]
        },
        {
            "metadata": {},
            "cell_type": "code",
            "source": "#Convert float64 to int64 format and continue with line 159",
            "execution_count": 164,
            "outputs": []
        },
        {
            "metadata": {},
            "cell_type": "code",
            "source": "import pandas as pd\nimport numpy as np",
            "execution_count": 26,
            "outputs": []
        },
        {
            "metadata": {},
            "cell_type": "code",
            "source": "final_df['WEATHER'] = pd.to_numeric(final_df['WEATHER'], errors='coerce').fillna(0)",
            "execution_count": 27,
            "outputs": [
                {
                    "output_type": "stream",
                    "text": "/opt/conda/envs/Python36/lib/python3.6/site-packages/ipykernel/__main__.py:1: SettingWithCopyWarning: \nA value is trying to be set on a copy of a slice from a DataFrame.\nTry using .loc[row_indexer,col_indexer] = value instead\n\nSee the caveats in the documentation: http://pandas.pydata.org/pandas-docs/stable/indexing.html#indexing-view-versus-copy\n  if __name__ == '__main__':\n",
                    "name": "stderr"
                }
            ]
        },
        {
            "metadata": {},
            "cell_type": "code",
            "source": "int_df = final_df[\"WEATHER\"].astype(int)\nint_df.dtypes\n",
            "execution_count": 47,
            "outputs": [
                {
                    "output_type": "execute_result",
                    "execution_count": 47,
                    "data": {
                        "text/plain": "dtype('int64')"
                    },
                    "metadata": {}
                }
            ]
        },
        {
            "metadata": {},
            "cell_type": "code",
            "source": "np.int64(final_df['ROADCOND'])",
            "execution_count": 42,
            "outputs": [
                {
                    "output_type": "execute_result",
                    "execution_count": 42,
                    "data": {
                        "text/plain": "array([2, 1, 3, ..., 1, 1, 1])"
                    },
                    "metadata": {}
                }
            ]
        },
        {
            "metadata": {},
            "cell_type": "code",
            "source": "np.int64(final_df['LIGHTCOND'])",
            "execution_count": 44,
            "outputs": [
                {
                    "output_type": "execute_result",
                    "execution_count": 44,
                    "data": {
                        "text/plain": "array([2, 1, 3, ..., 1, 1, 4])"
                    },
                    "metadata": {}
                }
            ]
        },
        {
            "metadata": {},
            "cell_type": "code",
            "source": "numpy_data=np.int64(final_df['LIGHTCOND'])",
            "execution_count": null,
            "outputs": []
        },
        {
            "metadata": {},
            "cell_type": "code",
            "source": "final_df.dtypes",
            "execution_count": 45,
            "outputs": [
                {
                    "output_type": "execute_result",
                    "execution_count": 45,
                    "data": {
                        "text/plain": "SEVERITYCODE      int64\nWEATHER         float64\nROADCOND        float64\nLIGHTCOND       float64\ndtype: object"
                    },
                    "metadata": {}
                }
            ]
        },
        {
            "metadata": {},
            "cell_type": "code",
            "source": "final_df = final_df.dropna()\nprint(final_df)",
            "execution_count": 55,
            "outputs": [
                {
                    "output_type": "stream",
                    "text": "        SEVERITYCODE  WEATHER  ROADCOND  LIGHTCOND\n25055              1      2.0       2.0        2.0\n65280              1      1.0       1.0        1.0\n86292              1      4.0       3.0        3.0\n155111             1      1.0       1.0        1.0\n64598              1      1.0       1.0        1.0\n119954             1      1.0       1.0        1.0\n64063              1      1.0       1.0        1.0\n105379             1      1.0       1.0        1.0\n187708             1      1.0       1.0        1.0\n63021              1      4.0       3.0        1.0\n156744             1      1.0       1.0        2.0\n10240              1      1.0       1.0        4.0\n37311              1      1.0       1.0        1.0\n108465             1      1.0       1.0        1.0\n97400              1      1.0       1.0        2.0\n51928              1      2.0       2.0        2.0\n7574               1      3.0       1.0        1.0\n135430             1      6.0       3.0        3.0\n64620              1      1.0       1.0        1.0\n160199             1      2.0       2.0        1.0\n169301             1      1.0       1.0        5.0\n120192             1      3.0       2.0        2.0\n158305             1      1.0       1.0        1.0\n179658             1      1.0       1.0        4.0\n67340              1      1.0       1.0        1.0\n184250             1      4.0       3.0        3.0\n57004              1      1.0       1.0        1.0\n49555              1      3.0       1.0        1.0\n74905              1      4.0       3.0        3.0\n187234             1      1.0       1.0        1.0\n...              ...      ...       ...        ...\n194565             2      1.0       1.0        1.0\n194576             2      2.0       2.0        1.0\n194578             2      1.0       1.0        2.0\n194579             2      2.0       2.0        1.0\n194589             2      1.0       1.0        2.0\n194594             2      1.0       1.0        1.0\n194602             2      2.0       2.0        1.0\n194608             2      2.0       2.0        1.0\n194613             2      1.0       1.0        1.0\n194615             2      1.0       1.0        2.0\n194627             2      2.0       2.0        1.0\n194631             2      9.0       2.0        2.0\n194633             2      1.0       1.0        2.0\n194634             2      3.0       2.0        2.0\n194636             2      1.0       2.0        1.0\n194637             2      2.0       2.0        1.0\n194640             2      3.0       2.0        7.0\n194645             2      1.0       1.0        2.0\n194647             2      2.0       2.0        4.0\n194649             2      1.0       1.0        2.0\n194650             2      1.0       1.0        1.0\n194653             2      3.0       2.0        2.0\n194656             2      1.0       1.0        1.0\n194660             2      2.0       2.0        8.0\n194661             2      1.0       1.0        1.0\n194663             2      2.0       2.0        1.0\n194666             2      1.0       2.0        1.0\n194668             2      1.0       1.0        1.0\n194670             2      1.0       1.0        1.0\n194671             2      1.0       1.0        4.0\n\n[113497 rows x 4 columns]\n",
                    "name": "stdout"
                }
            ]
        },
        {
            "metadata": {},
            "cell_type": "code",
            "source": "print(final_df.round(0).astype(np.int64))",
            "execution_count": 56,
            "outputs": [
                {
                    "output_type": "stream",
                    "text": "        SEVERITYCODE  WEATHER  ROADCOND  LIGHTCOND\n25055              1        2         2          2\n65280              1        1         1          1\n86292              1        4         3          3\n155111             1        1         1          1\n64598              1        1         1          1\n119954             1        1         1          1\n64063              1        1         1          1\n105379             1        1         1          1\n187708             1        1         1          1\n63021              1        4         3          1\n156744             1        1         1          2\n10240              1        1         1          4\n37311              1        1         1          1\n108465             1        1         1          1\n97400              1        1         1          2\n51928              1        2         2          2\n7574               1        3         1          1\n135430             1        6         3          3\n64620              1        1         1          1\n160199             1        2         2          1\n169301             1        1         1          5\n120192             1        3         2          2\n158305             1        1         1          1\n179658             1        1         1          4\n67340              1        1         1          1\n184250             1        4         3          3\n57004              1        1         1          1\n49555              1        3         1          1\n74905              1        4         3          3\n187234             1        1         1          1\n...              ...      ...       ...        ...\n194565             2        1         1          1\n194576             2        2         2          1\n194578             2        1         1          2\n194579             2        2         2          1\n194589             2        1         1          2\n194594             2        1         1          1\n194602             2        2         2          1\n194608             2        2         2          1\n194613             2        1         1          1\n194615             2        1         1          2\n194627             2        2         2          1\n194631             2        9         2          2\n194633             2        1         1          2\n194634             2        3         2          2\n194636             2        1         2          1\n194637             2        2         2          1\n194640             2        3         2          7\n194645             2        1         1          2\n194647             2        2         2          4\n194649             2        1         1          2\n194650             2        1         1          1\n194653             2        3         2          2\n194656             2        1         1          1\n194660             2        2         2          8\n194661             2        1         1          1\n194663             2        2         2          1\n194666             2        1         2          1\n194668             2        1         1          1\n194670             2        1         1          1\n194671             2        1         1          4\n\n[113497 rows x 4 columns]\n",
                    "name": "stdout"
                }
            ]
        },
        {
            "metadata": {},
            "cell_type": "code",
            "source": "final_df=final_df.round(0).astype(np.int64)",
            "execution_count": 58,
            "outputs": []
        },
        {
            "metadata": {},
            "cell_type": "code",
            "source": "final_df.dtypes",
            "execution_count": 59,
            "outputs": [
                {
                    "output_type": "execute_result",
                    "execution_count": 59,
                    "data": {
                        "text/plain": "SEVERITYCODE    int64\nWEATHER         int64\nROADCOND        int64\nLIGHTCOND       int64\ndtype: object"
                    },
                    "metadata": {}
                }
            ]
        },
        {
            "metadata": {},
            "cell_type": "code",
            "source": "",
            "execution_count": null,
            "outputs": []
        },
        {
            "metadata": {},
            "cell_type": "code",
            "source": "# Modeling and Predictions",
            "execution_count": null,
            "outputs": []
        },
        {
            "metadata": {},
            "cell_type": "code",
            "source": "x=np.asarray(final_df[['WEATHER', 'ROADCOND', 'LIGHTCOND']])\nx[0:5]",
            "execution_count": 60,
            "outputs": [
                {
                    "output_type": "execute_result",
                    "execution_count": 60,
                    "data": {
                        "text/plain": "array([[2, 2, 2],\n       [1, 1, 1],\n       [4, 3, 3],\n       [1, 1, 1],\n       [1, 1, 1]])"
                    },
                    "metadata": {}
                }
            ]
        },
        {
            "metadata": {},
            "cell_type": "code",
            "source": "y=np.asarray(final_df['SEVERITYCODE'])\ny[0:5]\n",
            "execution_count": 61,
            "outputs": [
                {
                    "output_type": "execute_result",
                    "execution_count": 61,
                    "data": {
                        "text/plain": "array([1, 1, 1, 1, 1])"
                    },
                    "metadata": {}
                }
            ]
        },
        {
            "metadata": {},
            "cell_type": "code",
            "source": "from sklearn.model_selection import train_test_split\nx_train, x_test, y_train, y_test=train_test_split(x, y, test_size=0.3, random_state=42)\nprint('Train set:', x_train.shape, y_train.shape)\nprint('Test set:', x_test.shape, y_test.shape)",
            "execution_count": 62,
            "outputs": [
                {
                    "output_type": "stream",
                    "text": "Train set: (79447, 3) (79447,)\nTest set: (34050, 3) (34050,)\n",
                    "name": "stdout"
                }
            ]
        },
        {
            "metadata": {},
            "cell_type": "code",
            "source": "# Building the KNN model\nfrom sklearn.neighbors import KNeighborsClassifier\nk=17",
            "execution_count": 68,
            "outputs": []
        },
        {
            "metadata": {},
            "cell_type": "code",
            "source": "#Train Model & Predict\nknn=KNeighborsClassifier(n_neighbors=k).fit(x_train, y_train)\n\nknn_y_pred=knn.predict(x_test)\nknn_y_pred[0:5]",
            "execution_count": 69,
            "outputs": [
                {
                    "output_type": "execute_result",
                    "execution_count": 69,
                    "data": {
                        "text/plain": "array([2, 1, 1, 1, 1])"
                    },
                    "metadata": {}
                }
            ]
        },
        {
            "metadata": {},
            "cell_type": "code",
            "source": "# KNN Evaluation",
            "execution_count": null,
            "outputs": []
        },
        {
            "metadata": {},
            "cell_type": "code",
            "source": "from sklearn.metrics import jaccard_similarity_score\nfrom sklearn.metrics import f1_score\nfrom sklearn.metrics import log_loss",
            "execution_count": 72,
            "outputs": []
        },
        {
            "metadata": {},
            "cell_type": "code",
            "source": "jaccard_similarity_score(y_test, knn_y_pred)",
            "execution_count": 74,
            "outputs": [
                {
                    "output_type": "execute_result",
                    "execution_count": 74,
                    "data": {
                        "text/plain": "0.5186490455212922"
                    },
                    "metadata": {}
                }
            ]
        },
        {
            "metadata": {},
            "cell_type": "code",
            "source": "f1_score(y_test, knn_y_pred, average='macro')",
            "execution_count": 75,
            "outputs": [
                {
                    "output_type": "execute_result",
                    "execution_count": 75,
                    "data": {
                        "text/plain": "0.5180780960740707"
                    },
                    "metadata": {}
                }
            ]
        },
        {
            "metadata": {},
            "cell_type": "code",
            "source": "# Decision Tree",
            "execution_count": null,
            "outputs": []
        },
        {
            "metadata": {},
            "cell_type": "code",
            "source": "from sklearn.tree import DecisionTreeClassifier\nfrom sklearn.externals.six import StringIO\nimport matplotlib.image as mpimg\nfrom sklearn import tree\n\ndt = DecisionTreeClassifier(criterion=\"entropy\", max_depth = 7)\ndt\ndt.fit(x_train, y_train)",
            "execution_count": 79,
            "outputs": [
                {
                    "output_type": "execute_result",
                    "execution_count": 79,
                    "data": {
                        "text/plain": "DecisionTreeClassifier(class_weight=None, criterion='entropy', max_depth=7,\n            max_features=None, max_leaf_nodes=None,\n            min_impurity_decrease=0.0, min_impurity_split=None,\n            min_samples_leaf=1, min_samples_split=2,\n            min_weight_fraction_leaf=0.0, presort=False, random_state=None,\n            splitter='best')"
                    },
                    "metadata": {}
                }
            ]
        },
        {
            "metadata": {},
            "cell_type": "code",
            "source": "dt_y_pred = dt.predict(x_test)",
            "execution_count": 80,
            "outputs": []
        },
        {
            "metadata": {},
            "cell_type": "code",
            "source": "# Decision Tree Evaluation",
            "execution_count": null,
            "outputs": []
        },
        {
            "metadata": {},
            "cell_type": "code",
            "source": "jaccard_similarity_score(y_test, dt_y_pred)",
            "execution_count": 81,
            "outputs": [
                {
                    "output_type": "execute_result",
                    "execution_count": 81,
                    "data": {
                        "text/plain": "0.5572393538913363"
                    },
                    "metadata": {}
                }
            ]
        },
        {
            "metadata": {},
            "cell_type": "code",
            "source": "f1_score(y_test, dt_y_pred, average='macro')",
            "execution_count": 82,
            "outputs": [
                {
                    "output_type": "execute_result",
                    "execution_count": 82,
                    "data": {
                        "text/plain": "0.48610939554341154"
                    },
                    "metadata": {}
                }
            ]
        },
        {
            "metadata": {},
            "cell_type": "code",
            "source": "# Linear Regression",
            "execution_count": null,
            "outputs": []
        },
        {
            "metadata": {},
            "cell_type": "code",
            "source": "from sklearn.linear_model import LogisticRegression\nfrom sklearn.metrics import confusion_matrix\nLR = LogisticRegression(C=6, solver='liblinear').fit(x_train, y_train)",
            "execution_count": 84,
            "outputs": []
        },
        {
            "metadata": {},
            "cell_type": "code",
            "source": "LR_y_pred = LR.predict(x_test)",
            "execution_count": 85,
            "outputs": []
        },
        {
            "metadata": {},
            "cell_type": "code",
            "source": "LR_y_prob = LR.predict_proba(x_test)",
            "execution_count": 86,
            "outputs": []
        },
        {
            "metadata": {},
            "cell_type": "code",
            "source": "LR_y_prob = LR.predict_proba(x_test)\nlog_loss(y_test, LR_y_prob)",
            "execution_count": 87,
            "outputs": [
                {
                    "output_type": "execute_result",
                    "execution_count": 87,
                    "data": {
                        "text/plain": "0.6818543944060274"
                    },
                    "metadata": {}
                }
            ]
        },
        {
            "metadata": {},
            "cell_type": "code",
            "source": "# Linear Regression Evaluation",
            "execution_count": null,
            "outputs": []
        },
        {
            "metadata": {},
            "cell_type": "code",
            "source": "jaccard_similarity_score(y_test, LR_y_pred)",
            "execution_count": 88,
            "outputs": [
                {
                    "output_type": "execute_result",
                    "execution_count": 88,
                    "data": {
                        "text/plain": "0.5385315712187959"
                    },
                    "metadata": {}
                }
            ]
        },
        {
            "metadata": {},
            "cell_type": "code",
            "source": "f1_score(y_test, LR_y_pred, average='macro')",
            "execution_count": 89,
            "outputs": [
                {
                    "output_type": "execute_result",
                    "execution_count": 89,
                    "data": {
                        "text/plain": "0.5321816635757292"
                    },
                    "metadata": {}
                }
            ]
        },
        {
            "metadata": {},
            "cell_type": "code",
            "source": "# This concludes this Notebook! Thank you for reviewing.",
            "execution_count": null,
            "outputs": []
        }
    ],
    "metadata": {
        "kernelspec": {
            "name": "python3",
            "display_name": "Python 3.6",
            "language": "python"
        },
        "language_info": {
            "name": "python",
            "version": "3.6.9",
            "mimetype": "text/x-python",
            "codemirror_mode": {
                "name": "ipython",
                "version": 3
            },
            "pygments_lexer": "ipython3",
            "nbconvert_exporter": "python",
            "file_extension": ".py"
        }
    },
    "nbformat": 4,
    "nbformat_minor": 1
}